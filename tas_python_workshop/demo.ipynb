{
 "metadata": {
  "language_info": {
   "codemirror_mode": {
    "name": "ipython",
    "version": 3
   },
   "file_extension": ".py",
   "mimetype": "text/x-python",
   "name": "python",
   "nbconvert_exporter": "python",
   "pygments_lexer": "ipython3",
   "version": "3.8.2"
  },
  "orig_nbformat": 2,
  "kernelspec": {
   "name": "python382jvsc74a57bd020bf69066c0dd38d51965b69d5e1b6e387082e3198ba56e97997ac55f4e50ad0",
   "display_name": "Python 3.8.2 64-bit ('usr')"
  },
  "metadata": {
   "interpreter": {
    "hash": "20bf69066c0dd38d51965b69d5e1b6e387082e3198ba56e97997ac55f4e50ad0"
   }
  }
 },
 "nbformat": 4,
 "nbformat_minor": 2,
 "cells": [
  {
   "cell_type": "code",
   "execution_count": 2,
   "metadata": {},
   "outputs": [],
   "source": [
    "import pandas as pd\n",
    "\n",
    "df = pd.read_csv(\"tas-python-workshop-sheet.csv\")"
   ]
  },
  {
   "cell_type": "code",
   "execution_count": 3,
   "metadata": {},
   "outputs": [
    {
     "output_type": "execute_result",
     "data": {
      "text/plain": [
       "     Time   Courses                                   Full Name  Grade Average\n",
       "0   Y19T1  ECON1101                Principles of Microeconomics             53\n",
       "1   Y19T1  COMP1511                    Programming Fundemantals             87\n",
       "2   Y19T1  MATH1141                       Higher Mathematics 1A             76\n",
       "3   Y19T2  DATA1001  Introduction to Data Science and Decisions             80\n",
       "4   Y19T2  MATH1231                              Mathematics 1B             92\n",
       "5   Y19T3  COMP1531           Software Engineering Fundamentals             76\n",
       "6   Y19T3  COMP2521              Data Structures and Algorithms             83\n",
       "7   Y19T3  MATH1081                        Discrete Mathematics             64\n",
       "8   Y20T1  ECON2112           Game Theory and Business Strategy             58\n",
       "9   Y20T1  ARTS2375                         Philosophical Logic             88\n",
       "10  Y20T2  COMP2041                       Software Construction             80\n",
       "11  Y20T2  COMP3121         Algorithms & Programming Techniques             90\n",
       "12  Y20T3  COMP1521               Computer Systems Fundamentals             87\n",
       "13  Y20T3  COMP2511        Object-Oriented Design & Programming             84\n",
       "14  Y20T3  COMP3311                            Database Systems             69\n",
       "15    Y20  ENGG2600                             Sunswift Year 1             80\n",
       "16  Y21T0  COMP3511                  Human Computer Interaction             76\n",
       "17  Y21T1  COMP6080                   Web Front-End Programming             80\n",
       "18  Y21T1  COMP3411                     Artificial Intelligence             87"
      ],
      "text/html": "<div>\n<style scoped>\n    .dataframe tbody tr th:only-of-type {\n        vertical-align: middle;\n    }\n\n    .dataframe tbody tr th {\n        vertical-align: top;\n    }\n\n    .dataframe thead th {\n        text-align: right;\n    }\n</style>\n<table border=\"1\" class=\"dataframe\">\n  <thead>\n    <tr style=\"text-align: right;\">\n      <th></th>\n      <th>Time</th>\n      <th>Courses</th>\n      <th>Full Name</th>\n      <th>Grade Average</th>\n    </tr>\n  </thead>\n  <tbody>\n    <tr>\n      <th>0</th>\n      <td>Y19T1</td>\n      <td>ECON1101</td>\n      <td>Principles of Microeconomics</td>\n      <td>53</td>\n    </tr>\n    <tr>\n      <th>1</th>\n      <td>Y19T1</td>\n      <td>COMP1511</td>\n      <td>Programming Fundemantals</td>\n      <td>87</td>\n    </tr>\n    <tr>\n      <th>2</th>\n      <td>Y19T1</td>\n      <td>MATH1141</td>\n      <td>Higher Mathematics 1A</td>\n      <td>76</td>\n    </tr>\n    <tr>\n      <th>3</th>\n      <td>Y19T2</td>\n      <td>DATA1001</td>\n      <td>Introduction to Data Science and Decisions</td>\n      <td>80</td>\n    </tr>\n    <tr>\n      <th>4</th>\n      <td>Y19T2</td>\n      <td>MATH1231</td>\n      <td>Mathematics 1B</td>\n      <td>92</td>\n    </tr>\n    <tr>\n      <th>5</th>\n      <td>Y19T3</td>\n      <td>COMP1531</td>\n      <td>Software Engineering Fundamentals</td>\n      <td>76</td>\n    </tr>\n    <tr>\n      <th>6</th>\n      <td>Y19T3</td>\n      <td>COMP2521</td>\n      <td>Data Structures and Algorithms</td>\n      <td>83</td>\n    </tr>\n    <tr>\n      <th>7</th>\n      <td>Y19T3</td>\n      <td>MATH1081</td>\n      <td>Discrete Mathematics</td>\n      <td>64</td>\n    </tr>\n    <tr>\n      <th>8</th>\n      <td>Y20T1</td>\n      <td>ECON2112</td>\n      <td>Game Theory and Business Strategy</td>\n      <td>58</td>\n    </tr>\n    <tr>\n      <th>9</th>\n      <td>Y20T1</td>\n      <td>ARTS2375</td>\n      <td>Philosophical Logic</td>\n      <td>88</td>\n    </tr>\n    <tr>\n      <th>10</th>\n      <td>Y20T2</td>\n      <td>COMP2041</td>\n      <td>Software Construction</td>\n      <td>80</td>\n    </tr>\n    <tr>\n      <th>11</th>\n      <td>Y20T2</td>\n      <td>COMP3121</td>\n      <td>Algorithms &amp; Programming Techniques</td>\n      <td>90</td>\n    </tr>\n    <tr>\n      <th>12</th>\n      <td>Y20T3</td>\n      <td>COMP1521</td>\n      <td>Computer Systems Fundamentals</td>\n      <td>87</td>\n    </tr>\n    <tr>\n      <th>13</th>\n      <td>Y20T3</td>\n      <td>COMP2511</td>\n      <td>Object-Oriented Design &amp; Programming</td>\n      <td>84</td>\n    </tr>\n    <tr>\n      <th>14</th>\n      <td>Y20T3</td>\n      <td>COMP3311</td>\n      <td>Database Systems</td>\n      <td>69</td>\n    </tr>\n    <tr>\n      <th>15</th>\n      <td>Y20</td>\n      <td>ENGG2600</td>\n      <td>Sunswift Year 1</td>\n      <td>80</td>\n    </tr>\n    <tr>\n      <th>16</th>\n      <td>Y21T0</td>\n      <td>COMP3511</td>\n      <td>Human Computer Interaction</td>\n      <td>76</td>\n    </tr>\n    <tr>\n      <th>17</th>\n      <td>Y21T1</td>\n      <td>COMP6080</td>\n      <td>Web Front-End Programming</td>\n      <td>80</td>\n    </tr>\n    <tr>\n      <th>18</th>\n      <td>Y21T1</td>\n      <td>COMP3411</td>\n      <td>Artificial Intelligence</td>\n      <td>87</td>\n    </tr>\n  </tbody>\n</table>\n</div>"
     },
     "metadata": {},
     "execution_count": 3
    }
   ],
   "source": [
    "df"
   ]
  },
  {
   "cell_type": "code",
   "execution_count": 4,
   "metadata": {},
   "outputs": [
    {
     "output_type": "execute_result",
     "data": {
      "text/plain": [
       "     Time   Courses                             Full Name  Grade Average\n",
       "1   Y19T1  COMP1511              Programming Fundemantals             87\n",
       "4   Y19T2  MATH1231                        Mathematics 1B             92\n",
       "6   Y19T3  COMP2521        Data Structures and Algorithms             83\n",
       "9   Y20T1  ARTS2375                   Philosophical Logic             88\n",
       "11  Y20T2  COMP3121   Algorithms & Programming Techniques             90\n",
       "12  Y20T3  COMP1521         Computer Systems Fundamentals             87\n",
       "13  Y20T3  COMP2511  Object-Oriented Design & Programming             84\n",
       "18  Y21T1  COMP3411               Artificial Intelligence             87"
      ],
      "text/html": "<div>\n<style scoped>\n    .dataframe tbody tr th:only-of-type {\n        vertical-align: middle;\n    }\n\n    .dataframe tbody tr th {\n        vertical-align: top;\n    }\n\n    .dataframe thead th {\n        text-align: right;\n    }\n</style>\n<table border=\"1\" class=\"dataframe\">\n  <thead>\n    <tr style=\"text-align: right;\">\n      <th></th>\n      <th>Time</th>\n      <th>Courses</th>\n      <th>Full Name</th>\n      <th>Grade Average</th>\n    </tr>\n  </thead>\n  <tbody>\n    <tr>\n      <th>1</th>\n      <td>Y19T1</td>\n      <td>COMP1511</td>\n      <td>Programming Fundemantals</td>\n      <td>87</td>\n    </tr>\n    <tr>\n      <th>4</th>\n      <td>Y19T2</td>\n      <td>MATH1231</td>\n      <td>Mathematics 1B</td>\n      <td>92</td>\n    </tr>\n    <tr>\n      <th>6</th>\n      <td>Y19T3</td>\n      <td>COMP2521</td>\n      <td>Data Structures and Algorithms</td>\n      <td>83</td>\n    </tr>\n    <tr>\n      <th>9</th>\n      <td>Y20T1</td>\n      <td>ARTS2375</td>\n      <td>Philosophical Logic</td>\n      <td>88</td>\n    </tr>\n    <tr>\n      <th>11</th>\n      <td>Y20T2</td>\n      <td>COMP3121</td>\n      <td>Algorithms &amp; Programming Techniques</td>\n      <td>90</td>\n    </tr>\n    <tr>\n      <th>12</th>\n      <td>Y20T3</td>\n      <td>COMP1521</td>\n      <td>Computer Systems Fundamentals</td>\n      <td>87</td>\n    </tr>\n    <tr>\n      <th>13</th>\n      <td>Y20T3</td>\n      <td>COMP2511</td>\n      <td>Object-Oriented Design &amp; Programming</td>\n      <td>84</td>\n    </tr>\n    <tr>\n      <th>18</th>\n      <td>Y21T1</td>\n      <td>COMP3411</td>\n      <td>Artificial Intelligence</td>\n      <td>87</td>\n    </tr>\n  </tbody>\n</table>\n</div>"
     },
     "metadata": {},
     "execution_count": 4
    }
   ],
   "source": [
    "df[df['Grade Average'] > 80]"
   ]
  },
  {
   "cell_type": "code",
   "execution_count": 5,
   "metadata": {},
   "outputs": [
    {
     "output_type": "execute_result",
     "data": {
      "text/plain": [
       "    Time   Courses                                   Full Name  Grade Average\n",
       "0  Y19T1  ECON1101                Principles of Microeconomics             53\n",
       "1  Y19T1  COMP1511                    Programming Fundemantals             87\n",
       "2  Y19T1  MATH1141                       Higher Mathematics 1A             76\n",
       "3  Y19T2  DATA1001  Introduction to Data Science and Decisions             80\n",
       "4  Y19T2  MATH1231                              Mathematics 1B             92"
      ],
      "text/html": "<div>\n<style scoped>\n    .dataframe tbody tr th:only-of-type {\n        vertical-align: middle;\n    }\n\n    .dataframe tbody tr th {\n        vertical-align: top;\n    }\n\n    .dataframe thead th {\n        text-align: right;\n    }\n</style>\n<table border=\"1\" class=\"dataframe\">\n  <thead>\n    <tr style=\"text-align: right;\">\n      <th></th>\n      <th>Time</th>\n      <th>Courses</th>\n      <th>Full Name</th>\n      <th>Grade Average</th>\n    </tr>\n  </thead>\n  <tbody>\n    <tr>\n      <th>0</th>\n      <td>Y19T1</td>\n      <td>ECON1101</td>\n      <td>Principles of Microeconomics</td>\n      <td>53</td>\n    </tr>\n    <tr>\n      <th>1</th>\n      <td>Y19T1</td>\n      <td>COMP1511</td>\n      <td>Programming Fundemantals</td>\n      <td>87</td>\n    </tr>\n    <tr>\n      <th>2</th>\n      <td>Y19T1</td>\n      <td>MATH1141</td>\n      <td>Higher Mathematics 1A</td>\n      <td>76</td>\n    </tr>\n    <tr>\n      <th>3</th>\n      <td>Y19T2</td>\n      <td>DATA1001</td>\n      <td>Introduction to Data Science and Decisions</td>\n      <td>80</td>\n    </tr>\n    <tr>\n      <th>4</th>\n      <td>Y19T2</td>\n      <td>MATH1231</td>\n      <td>Mathematics 1B</td>\n      <td>92</td>\n    </tr>\n  </tbody>\n</table>\n</div>"
     },
     "metadata": {},
     "execution_count": 5
    }
   ],
   "source": [
    "df.head()"
   ]
  },
  {
   "cell_type": "code",
   "execution_count": 6,
   "metadata": {},
   "outputs": [
    {
     "output_type": "execute_result",
     "data": {
      "text/plain": [
       "     Time   Courses                   Full Name  Grade Average\n",
       "14  Y20T3  COMP3311            Database Systems             69\n",
       "15    Y20  ENGG2600             Sunswift Year 1             80\n",
       "16  Y21T0  COMP3511  Human Computer Interaction             76\n",
       "17  Y21T1  COMP6080   Web Front-End Programming             80\n",
       "18  Y21T1  COMP3411     Artificial Intelligence             87"
      ],
      "text/html": "<div>\n<style scoped>\n    .dataframe tbody tr th:only-of-type {\n        vertical-align: middle;\n    }\n\n    .dataframe tbody tr th {\n        vertical-align: top;\n    }\n\n    .dataframe thead th {\n        text-align: right;\n    }\n</style>\n<table border=\"1\" class=\"dataframe\">\n  <thead>\n    <tr style=\"text-align: right;\">\n      <th></th>\n      <th>Time</th>\n      <th>Courses</th>\n      <th>Full Name</th>\n      <th>Grade Average</th>\n    </tr>\n  </thead>\n  <tbody>\n    <tr>\n      <th>14</th>\n      <td>Y20T3</td>\n      <td>COMP3311</td>\n      <td>Database Systems</td>\n      <td>69</td>\n    </tr>\n    <tr>\n      <th>15</th>\n      <td>Y20</td>\n      <td>ENGG2600</td>\n      <td>Sunswift Year 1</td>\n      <td>80</td>\n    </tr>\n    <tr>\n      <th>16</th>\n      <td>Y21T0</td>\n      <td>COMP3511</td>\n      <td>Human Computer Interaction</td>\n      <td>76</td>\n    </tr>\n    <tr>\n      <th>17</th>\n      <td>Y21T1</td>\n      <td>COMP6080</td>\n      <td>Web Front-End Programming</td>\n      <td>80</td>\n    </tr>\n    <tr>\n      <th>18</th>\n      <td>Y21T1</td>\n      <td>COMP3411</td>\n      <td>Artificial Intelligence</td>\n      <td>87</td>\n    </tr>\n  </tbody>\n</table>\n</div>"
     },
     "metadata": {},
     "execution_count": 6
    }
   ],
   "source": [
    "df.tail()"
   ]
  },
  {
   "cell_type": "code",
   "execution_count": 7,
   "metadata": {},
   "outputs": [
    {
     "output_type": "execute_result",
     "data": {
      "text/plain": [
       "       Grade Average\n",
       "count      19.000000\n",
       "mean       78.421053\n",
       "std        10.725441\n",
       "min        53.000000\n",
       "25%        76.000000\n",
       "50%        80.000000\n",
       "75%        87.000000\n",
       "max        92.000000"
      ],
      "text/html": "<div>\n<style scoped>\n    .dataframe tbody tr th:only-of-type {\n        vertical-align: middle;\n    }\n\n    .dataframe tbody tr th {\n        vertical-align: top;\n    }\n\n    .dataframe thead th {\n        text-align: right;\n    }\n</style>\n<table border=\"1\" class=\"dataframe\">\n  <thead>\n    <tr style=\"text-align: right;\">\n      <th></th>\n      <th>Grade Average</th>\n    </tr>\n  </thead>\n  <tbody>\n    <tr>\n      <th>count</th>\n      <td>19.000000</td>\n    </tr>\n    <tr>\n      <th>mean</th>\n      <td>78.421053</td>\n    </tr>\n    <tr>\n      <th>std</th>\n      <td>10.725441</td>\n    </tr>\n    <tr>\n      <th>min</th>\n      <td>53.000000</td>\n    </tr>\n    <tr>\n      <th>25%</th>\n      <td>76.000000</td>\n    </tr>\n    <tr>\n      <th>50%</th>\n      <td>80.000000</td>\n    </tr>\n    <tr>\n      <th>75%</th>\n      <td>87.000000</td>\n    </tr>\n    <tr>\n      <th>max</th>\n      <td>92.000000</td>\n    </tr>\n  </tbody>\n</table>\n</div>"
     },
     "metadata": {},
     "execution_count": 7
    }
   ],
   "source": [
    "df.describe()"
   ]
  },
  {
   "cell_type": "code",
   "execution_count": 8,
   "metadata": {},
   "outputs": [],
   "source": [
    "def get_year(time):\n",
    "    if (time[0] == 'Y'):\n",
    "        return int(time[1]+time[2]) + 2000\n",
    "\n",
    "def get_term_num(time):\n",
    "    if (len(time) > 3 and time[3] == 'T'):\n",
    "        return int(time[4])\n",
    "\n",
    "def get_grade_letter(mark):\n",
    "    if (mark >= 85):\n",
    "        return \"HD\"\n",
    "    elif (mark >= 75):\n",
    "        return \"DN\"\n",
    "    elif (mark >= 65):\n",
    "        return \"CR\"\n",
    "    elif (mark >= 50):\n",
    "        return \"PS\"\n",
    "    else:\n",
    "        return \"FL\"\n"
   ]
  },
  {
   "cell_type": "code",
   "execution_count": 9,
   "metadata": {},
   "outputs": [
    {
     "output_type": "execute_result",
     "data": {
      "text/plain": [
       "2020"
      ]
     },
     "metadata": {},
     "execution_count": 9
    }
   ],
   "source": [
    "get_year(\"Y20T2\")"
   ]
  },
  {
   "cell_type": "code",
   "execution_count": 10,
   "metadata": {},
   "outputs": [
    {
     "output_type": "execute_result",
     "data": {
      "text/plain": [
       "1"
      ]
     },
     "metadata": {},
     "execution_count": 10
    }
   ],
   "source": [
    "get_term_num(\"Y20T1\")"
   ]
  },
  {
   "cell_type": "code",
   "execution_count": 11,
   "metadata": {},
   "outputs": [],
   "source": [
    "df['Year']=df[['Time']].apply(lambda x: get_year(*x), axis=1)"
   ]
  },
  {
   "cell_type": "code",
   "execution_count": 13,
   "metadata": {},
   "outputs": [
    {
     "output_type": "execute_result",
     "data": {
      "text/plain": [
       "    Time   Courses                                   Full Name  Grade Average  \\\n",
       "0  Y19T1  ECON1101                Principles of Microeconomics             53   \n",
       "1  Y19T1  COMP1511                    Programming Fundemantals             87   \n",
       "2  Y19T1  MATH1141                       Higher Mathematics 1A             76   \n",
       "3  Y19T2  DATA1001  Introduction to Data Science and Decisions             80   \n",
       "4  Y19T2  MATH1231                              Mathematics 1B             92   \n",
       "\n",
       "   Year  \n",
       "0  2019  \n",
       "1  2019  \n",
       "2  2019  \n",
       "3  2019  \n",
       "4  2019  "
      ],
      "text/html": "<div>\n<style scoped>\n    .dataframe tbody tr th:only-of-type {\n        vertical-align: middle;\n    }\n\n    .dataframe tbody tr th {\n        vertical-align: top;\n    }\n\n    .dataframe thead th {\n        text-align: right;\n    }\n</style>\n<table border=\"1\" class=\"dataframe\">\n  <thead>\n    <tr style=\"text-align: right;\">\n      <th></th>\n      <th>Time</th>\n      <th>Courses</th>\n      <th>Full Name</th>\n      <th>Grade Average</th>\n      <th>Year</th>\n    </tr>\n  </thead>\n  <tbody>\n    <tr>\n      <th>0</th>\n      <td>Y19T1</td>\n      <td>ECON1101</td>\n      <td>Principles of Microeconomics</td>\n      <td>53</td>\n      <td>2019</td>\n    </tr>\n    <tr>\n      <th>1</th>\n      <td>Y19T1</td>\n      <td>COMP1511</td>\n      <td>Programming Fundemantals</td>\n      <td>87</td>\n      <td>2019</td>\n    </tr>\n    <tr>\n      <th>2</th>\n      <td>Y19T1</td>\n      <td>MATH1141</td>\n      <td>Higher Mathematics 1A</td>\n      <td>76</td>\n      <td>2019</td>\n    </tr>\n    <tr>\n      <th>3</th>\n      <td>Y19T2</td>\n      <td>DATA1001</td>\n      <td>Introduction to Data Science and Decisions</td>\n      <td>80</td>\n      <td>2019</td>\n    </tr>\n    <tr>\n      <th>4</th>\n      <td>Y19T2</td>\n      <td>MATH1231</td>\n      <td>Mathematics 1B</td>\n      <td>92</td>\n      <td>2019</td>\n    </tr>\n  </tbody>\n</table>\n</div>"
     },
     "metadata": {},
     "execution_count": 13
    }
   ],
   "source": [
    "df.head()"
   ]
  },
  {
   "cell_type": "code",
   "execution_count": null,
   "metadata": {},
   "outputs": [],
   "source": []
  }
 ]
}